{
 "cells": [
  {
   "attachments": {},
   "cell_type": "markdown",
   "metadata": {},
   "source": [
    "Using the PuLP library to implement supply chain optimization "
   ]
  },
  {
   "cell_type": "code",
   "execution_count": null,
   "metadata": {},
   "outputs": [],
   "source": [
    "import pandas as pd\n",
    "from pulp import *"
   ]
  },
  {
   "attachments": {},
   "cell_type": "markdown",
   "metadata": {},
   "source": [
    "Load the dataset"
   ]
  },
  {
   "cell_type": "code",
   "execution_count": null,
   "metadata": {},
   "outputs": [],
   "source": [
    "data = pd.read_csv(\"supply_chain_data.csv\")"
   ]
  },
  {
   "attachments": {},
   "cell_type": "markdown",
   "metadata": {},
   "source": [
    "Create a list of nodes (locations)\n"
   ]
  },
  {
   "cell_type": "code",
   "execution_count": null,
   "metadata": {},
   "outputs": [],
   "source": [
    "locations = list(set(data['location']))"
   ]
  },
  {
   "attachments": {},
   "cell_type": "markdown",
   "metadata": {},
   "source": [
    "Create a dictionary of shipping costs between locations"
   ]
  },
  {
   "cell_type": "code",
   "execution_count": null,
   "metadata": {},
   "outputs": [],
   "source": [
    "\n",
    "shipping_costs = {}\n",
    "for i in range(len(data)):\n",
    "    origin = data.iloc[i]['origin']\n",
    "    destination = data.iloc[i]['destination']\n",
    "    cost = data.iloc[i]['freight_cost']\n",
    "    shipping_costs[(origin, destination)] = cost"
   ]
  },
  {
   "attachments": {},
   "cell_type": "markdown",
   "metadata": {},
   "source": [
    "Create a dictionary of warehouse costs for each location"
   ]
  },
  {
   "cell_type": "code",
   "execution_count": null,
   "metadata": {},
   "outputs": [],
   "source": [
    "\n",
    "warehouse_costs = {}\n",
    "for i in range(len(data)):\n",
    "    location = data.iloc[i]['location']\n",
    "    cost = data.iloc[i]['warehousing_cost']\n",
    "    warehouse_costs[location] = cost"
   ]
  },
  {
   "attachments": {},
   "cell_type": "markdown",
   "metadata": {},
   "source": [
    "Define the optimization problem"
   ]
  },
  {
   "cell_type": "code",
   "execution_count": null,
   "metadata": {},
   "outputs": [],
   "source": [
    "prob = LpProblem(\"Supply Chain Optimization\", LpMinimize)"
   ]
  },
  {
   "attachments": {},
   "cell_type": "markdown",
   "metadata": {},
   "source": [
    "Create decision variables for shipping between locations"
   ]
  },
  {
   "cell_type": "code",
   "execution_count": null,
   "metadata": {},
   "outputs": [],
   "source": [
    "\n",
    "shipping_vars = LpVariable.dicts(\"Shipping\", [(o,d) for o in locations for d in locations if o!=d], \n",
    "                                lowBound=0, cat='Continuous')"
   ]
  },
  {
   "attachments": {},
   "cell_type": "markdown",
   "metadata": {},
   "source": [
    "Create decision variables for warehouse inventory at each location"
   ]
  },
  {
   "cell_type": "code",
   "execution_count": null,
   "metadata": {},
   "outputs": [],
   "source": [
    "\n",
    "inventory_vars = LpVariable.dicts(\"Inventory\", locations, lowBound=0, cat='Continuous')"
   ]
  },
  {
   "attachments": {},
   "cell_type": "markdown",
   "metadata": {},
   "source": [
    "Create the objective function"
   ]
  },
  {
   "cell_type": "code",
   "execution_count": null,
   "metadata": {},
   "outputs": [],
   "source": [
    "prob += lpSum([shipping_costs[(o,d)]*shipping_vars[(o,d)] for o in locations for d in locations if o!=d]) \\\n",
    "        + lpSum([warehouse_costs[l]*inventory_vars[l] for l in locations])"
   ]
  },
  {
   "attachments": {},
   "cell_type": "markdown",
   "metadata": {},
   "source": [
    "Add the constraints"
   ]
  },
  {
   "cell_type": "code",
   "execution_count": null,
   "metadata": {},
   "outputs": [],
   "source": [
    "for l in locations:\n",
    "    # The sum of inbound and outbound shipping should equal inventory\n",
    "    prob += lpSum([shipping_vars[(o,l)] for o in locations if o!=l]) \\\n",
    "            - lpSum([shipping_vars[(l,d)] for d in locations if d!=l]) == inventory_vars[l]\n",
    "    # Inventory at each location should not exceed the maximum capacity\n",
    "    prob += inventory_vars[l] <= data.loc[data['location'] == l, 'max_capacity'].iloc[0]"
   ]
  },
  {
   "attachments": {},
   "cell_type": "markdown",
   "metadata": {},
   "source": [
    "Solve the problem"
   ]
  },
  {
   "cell_type": "code",
   "execution_count": null,
   "metadata": {},
   "outputs": [],
   "source": [
    "prob.solve()"
   ]
  },
  {
   "attachments": {},
   "cell_type": "markdown",
   "metadata": {},
   "source": [
    "Print the results"
   ]
  },
  {
   "cell_type": "code",
   "execution_count": null,
   "metadata": {},
   "outputs": [],
   "source": [
    "\n",
    "print(\"Optimal solution found with total cost:\", value(prob.objective))\n",
    "print(\"Shipping plan:\")\n",
    "for o in locations:\n",
    "    for d in locations:\n",
    "        if o!=d:\n",
    "            if shipping_vars[(o,d)].varValue > 0:\n",
    "                print(f\"{o} -> {d}: {shipping_vars[(o,d)].varValue}\")\n",
    "print(\"Warehouse inventory:\")\n",
    "for l in locations:\n",
    "    print(f\"{l}: {inventory_vars[l].varValue}\")"
   ]
  }
 ],
 "metadata": {
  "language_info": {
   "name": "python"
  },
  "orig_nbformat": 4
 },
 "nbformat": 4,
 "nbformat_minor": 2
}
